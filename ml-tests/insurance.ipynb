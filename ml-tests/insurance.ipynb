{
 "cells": [
  {
   "cell_type": "code",
   "execution_count": null,
   "metadata": {
    "id": "5DerHkqDVHdn"
   },
   "outputs": [],
   "source": [
    "from keras.models import Sequential\n",
    "from keras.layers import Dense\n",
    "import matplotlib.pyplot as plt\n",
    "from pandas import *\n",
    "from sklearn.ensemble import AdaBoostRegressor, BaggingRegressor, ExtraTreesRegressor, GradientBoostingRegressor, RandomForestRegressor, VotingRegressor\n",
    "from sklearn.linear_model import BayesianRidge, ElasticNet, Lasso, LassoLars, LinearRegression, Ridge, SGDRegressor\n",
    "from sklearn.metrics import mean_absolute_error\n",
    "from sklearn.model_selection import train_test_split\n",
    "from sklearn.neighbors import KNeighborsRegressor\n",
    "from sklearn.pipeline import make_pipeline\n",
    "from sklearn.preprocessing import StandardScaler\n",
    "from sklearn.svm import SVR\n",
    "from sklearn.tree import DecisionTreeRegressor\n",
    "from xgboost import XGBRegressor\n",
    "import numpy as np"
   ]
  },
  {
   "cell_type": "code",
   "execution_count": null,
   "metadata": {
    "colab": {
     "base_uri": "https://localhost:8080/",
     "height": 206
    },
    "id": "1CboErVQeTcj",
    "outputId": "7f7b4cb9-25b9-42e4-d381-f0a14881dd2e"
   },
   "outputs": [
    {
     "data": {
      "text/html": [
       "<div>\n",
       "<style scoped>\n",
       "    .dataframe tbody tr th:only-of-type {\n",
       "        vertical-align: middle;\n",
       "    }\n",
       "\n",
       "    .dataframe tbody tr th {\n",
       "        vertical-align: top;\n",
       "    }\n",
       "\n",
       "    .dataframe thead th {\n",
       "        text-align: right;\n",
       "    }\n",
       "</style>\n",
       "<table border=\"1\" class=\"dataframe\">\n",
       "  <thead>\n",
       "    <tr style=\"text-align: right;\">\n",
       "      <th></th>\n",
       "      <th>age</th>\n",
       "      <th>sex</th>\n",
       "      <th>bmi</th>\n",
       "      <th>children</th>\n",
       "      <th>smoker</th>\n",
       "      <th>region</th>\n",
       "      <th>charges</th>\n",
       "    </tr>\n",
       "  </thead>\n",
       "  <tbody>\n",
       "    <tr>\n",
       "      <th>0</th>\n",
       "      <td>19</td>\n",
       "      <td>female</td>\n",
       "      <td>27.900</td>\n",
       "      <td>0</td>\n",
       "      <td>yes</td>\n",
       "      <td>southwest</td>\n",
       "      <td>16884.92400</td>\n",
       "    </tr>\n",
       "    <tr>\n",
       "      <th>1</th>\n",
       "      <td>18</td>\n",
       "      <td>male</td>\n",
       "      <td>33.770</td>\n",
       "      <td>1</td>\n",
       "      <td>no</td>\n",
       "      <td>southeast</td>\n",
       "      <td>1725.55230</td>\n",
       "    </tr>\n",
       "    <tr>\n",
       "      <th>2</th>\n",
       "      <td>28</td>\n",
       "      <td>male</td>\n",
       "      <td>33.000</td>\n",
       "      <td>3</td>\n",
       "      <td>no</td>\n",
       "      <td>southeast</td>\n",
       "      <td>4449.46200</td>\n",
       "    </tr>\n",
       "    <tr>\n",
       "      <th>3</th>\n",
       "      <td>33</td>\n",
       "      <td>male</td>\n",
       "      <td>22.705</td>\n",
       "      <td>0</td>\n",
       "      <td>no</td>\n",
       "      <td>northwest</td>\n",
       "      <td>21984.47061</td>\n",
       "    </tr>\n",
       "    <tr>\n",
       "      <th>4</th>\n",
       "      <td>32</td>\n",
       "      <td>male</td>\n",
       "      <td>28.880</td>\n",
       "      <td>0</td>\n",
       "      <td>no</td>\n",
       "      <td>northwest</td>\n",
       "      <td>3866.85520</td>\n",
       "    </tr>\n",
       "  </tbody>\n",
       "</table>\n",
       "</div>"
      ],
      "text/plain": [
       "   age     sex     bmi  children smoker     region      charges\n",
       "0   19  female  27.900         0    yes  southwest  16884.92400\n",
       "1   18    male  33.770         1     no  southeast   1725.55230\n",
       "2   28    male  33.000         3     no  southeast   4449.46200\n",
       "3   33    male  22.705         0     no  northwest  21984.47061\n",
       "4   32    male  28.880         0     no  northwest   3866.85520"
      ]
     },
     "execution_count": 139,
     "metadata": {},
     "output_type": "execute_result"
    }
   ],
   "source": [
    "# Load the data\n",
    "data = read_csv(\"insurance.csv\")\n",
    "data.head()"
   ]
  },
  {
   "cell_type": "code",
   "execution_count": null,
   "metadata": {
    "colab": {
     "base_uri": "https://localhost:8080/",
     "height": 206
    },
    "id": "MRKAa2twVqcz",
    "outputId": "a90cc4a5-c28a-44c9-e3b9-7b1f6dcc99f1"
   },
   "outputs": [
    {
     "data": {
      "text/html": [
       "<div>\n",
       "<style scoped>\n",
       "    .dataframe tbody tr th:only-of-type {\n",
       "        vertical-align: middle;\n",
       "    }\n",
       "\n",
       "    .dataframe tbody tr th {\n",
       "        vertical-align: top;\n",
       "    }\n",
       "\n",
       "    .dataframe thead th {\n",
       "        text-align: right;\n",
       "    }\n",
       "</style>\n",
       "<table border=\"1\" class=\"dataframe\">\n",
       "  <thead>\n",
       "    <tr style=\"text-align: right;\">\n",
       "      <th></th>\n",
       "      <th>age</th>\n",
       "      <th>bmi</th>\n",
       "      <th>children</th>\n",
       "      <th>charges</th>\n",
       "      <th>sex_male</th>\n",
       "      <th>smoker_yes</th>\n",
       "      <th>region_northwest</th>\n",
       "      <th>region_southeast</th>\n",
       "      <th>region_southwest</th>\n",
       "    </tr>\n",
       "  </thead>\n",
       "  <tbody>\n",
       "    <tr>\n",
       "      <th>0</th>\n",
       "      <td>19</td>\n",
       "      <td>27.900</td>\n",
       "      <td>0</td>\n",
       "      <td>16884.92400</td>\n",
       "      <td>0</td>\n",
       "      <td>1</td>\n",
       "      <td>0</td>\n",
       "      <td>0</td>\n",
       "      <td>1</td>\n",
       "    </tr>\n",
       "    <tr>\n",
       "      <th>1</th>\n",
       "      <td>18</td>\n",
       "      <td>33.770</td>\n",
       "      <td>1</td>\n",
       "      <td>1725.55230</td>\n",
       "      <td>1</td>\n",
       "      <td>0</td>\n",
       "      <td>0</td>\n",
       "      <td>1</td>\n",
       "      <td>0</td>\n",
       "    </tr>\n",
       "    <tr>\n",
       "      <th>2</th>\n",
       "      <td>28</td>\n",
       "      <td>33.000</td>\n",
       "      <td>3</td>\n",
       "      <td>4449.46200</td>\n",
       "      <td>1</td>\n",
       "      <td>0</td>\n",
       "      <td>0</td>\n",
       "      <td>1</td>\n",
       "      <td>0</td>\n",
       "    </tr>\n",
       "    <tr>\n",
       "      <th>3</th>\n",
       "      <td>33</td>\n",
       "      <td>22.705</td>\n",
       "      <td>0</td>\n",
       "      <td>21984.47061</td>\n",
       "      <td>1</td>\n",
       "      <td>0</td>\n",
       "      <td>1</td>\n",
       "      <td>0</td>\n",
       "      <td>0</td>\n",
       "    </tr>\n",
       "    <tr>\n",
       "      <th>4</th>\n",
       "      <td>32</td>\n",
       "      <td>28.880</td>\n",
       "      <td>0</td>\n",
       "      <td>3866.85520</td>\n",
       "      <td>1</td>\n",
       "      <td>0</td>\n",
       "      <td>1</td>\n",
       "      <td>0</td>\n",
       "      <td>0</td>\n",
       "    </tr>\n",
       "  </tbody>\n",
       "</table>\n",
       "</div>"
      ],
      "text/plain": [
       "   age     bmi  children  ...  region_northwest  region_southeast  region_southwest\n",
       "0   19  27.900         0  ...                 0                 0                 1\n",
       "1   18  33.770         1  ...                 0                 1                 0\n",
       "2   28  33.000         3  ...                 0                 1                 0\n",
       "3   33  22.705         0  ...                 1                 0                 0\n",
       "4   32  28.880         0  ...                 1                 0                 0\n",
       "\n",
       "[5 rows x 9 columns]"
      ]
     },
     "execution_count": 140,
     "metadata": {},
     "output_type": "execute_result"
    }
   ],
   "source": [
    "# One-hot encoding\n",
    "data = get_dummies(data, columns=['sex', 'smoker', 'region'], drop_first=True)\n",
    "data.head() "
   ]
  },
  {
   "cell_type": "code",
   "execution_count": null,
   "metadata": {
    "id": "xGEt1q5ICo48"
   },
   "outputs": [],
   "source": [
    "# Format and Split the data\n",
    "x = data[['age', 'bmi', 'children', 'sex_male', 'smoker_yes', 'region_northwest', 'region_southeast', 'region_southwest']]\n",
    "y = data['charges']\n",
    "\n",
    "train_x, test_x, train_y, test_y = train_test_split(x, y, test_size=0.4)"
   ]
  },
  {
   "cell_type": "code",
   "execution_count": null,
   "metadata": {
    "colab": {
     "base_uri": "https://localhost:8080/"
    },
    "id": "xgfneDBvVgfL",
    "outputId": "b11e9e27-65fa-4407-d118-594181ab553d"
   },
   "outputs": [
    {
     "name": "stdout",
     "output_type": "stream",
     "text": [
      "Linear Regression 4282.342580546311\n"
     ]
    }
   ],
   "source": [
    "# Train the model and make predictions\n",
    "# Linear Regression\n",
    "error = []\n",
    "for i in range(10):\n",
    "  model = LinearRegression()\n",
    "  model.fit(train_x, train_y)\n",
    "  predicted = model.predict(test_x)\n",
    "  error.append(mean_absolute_error(test_y, predicted))\n",
    "print('Linear Regression',sum(error)/len(error))"
   ]
  },
  {
   "cell_type": "code",
   "execution_count": null,
   "metadata": {
    "colab": {
     "base_uri": "https://localhost:8080/"
    },
    "id": "CECXbLURXCQt",
    "outputId": "82c3ad39-7652-4790-e731-bcd129ef54ac"
   },
   "outputs": [
    {
     "name": "stdout",
     "output_type": "stream",
     "text": [
      "Ridge Regression 4294.415444643089\n"
     ]
    }
   ],
   "source": [
    "# Ridge Regression \n",
    "error = []\n",
    "for i in range(10):\n",
    "  model = Ridge()\n",
    "  model.fit(train_x, train_y)\n",
    "  predicted = model.predict(test_x)\n",
    "  error.append(mean_absolute_error(test_y, predicted))\n",
    "print('Ridge Regression',sum(error)/len(error))"
   ]
  },
  {
   "cell_type": "code",
   "execution_count": null,
   "metadata": {
    "colab": {
     "base_uri": "https://localhost:8080/"
    },
    "id": "yXTr1O-3YzJk",
    "outputId": "53bb119f-c948-4aa5-e3f0-8b1d1e5c635d"
   },
   "outputs": [
    {
     "name": "stdout",
     "output_type": "stream",
     "text": [
      "BayesianRidge Regression 4288.276432029095\n"
     ]
    }
   ],
   "source": [
    "# BayesianRidge Regression\n",
    "error = []\n",
    "for i in range(10):\n",
    "  model = BayesianRidge()\n",
    "  model.fit(train_x, train_y)\n",
    "  predicted = model.predict(test_x)\n",
    "  error.append(mean_absolute_error(test_y, predicted))\n",
    "print('BayesianRidge Regression',sum(error)/len(error))"
   ]
  },
  {
   "cell_type": "code",
   "execution_count": null,
   "metadata": {
    "colab": {
     "base_uri": "https://localhost:8080/"
    },
    "id": "E99yl8egXpJ9",
    "outputId": "c1880bb5-fa5d-4a40-ba62-351c8378deef"
   },
   "outputs": [
    {
     "name": "stdout",
     "output_type": "stream",
     "text": [
      "Lasso Regression 4283.116248754755\n"
     ]
    }
   ],
   "source": [
    "# Lasso Regression\n",
    "error = []\n",
    "for i in range(10):\n",
    "  model = Lasso()\n",
    "  model.fit(train_x, train_y)\n",
    "  predicted = model.predict(test_x)\n",
    "  error.append(mean_absolute_error(test_y, predicted))\n",
    "print('Lasso Regression',sum(error)/len(error))"
   ]
  },
  {
   "cell_type": "code",
   "execution_count": null,
   "metadata": {
    "colab": {
     "base_uri": "https://localhost:8080/"
    },
    "id": "igP1YO14X0Qc",
    "outputId": "6326848f-d064-4732-c076-9a9e278ab1bc"
   },
   "outputs": [
    {
     "name": "stdout",
     "output_type": "stream",
     "text": [
      "LassoLars Regression 4290.230852618807\n"
     ]
    }
   ],
   "source": [
    "# LassoLars Regression\n",
    "error = []\n",
    "for i in range(10):\n",
    "  model = LassoLars()\n",
    "  model.fit(train_x, train_y)\n",
    "  predicted = model.predict(test_x)\n",
    "  error.append(mean_absolute_error(test_y, predicted))\n",
    "print('LassoLars Regression',sum(error)/len(error))"
   ]
  },
  {
   "cell_type": "code",
   "execution_count": null,
   "metadata": {
    "colab": {
     "base_uri": "https://localhost:8080/"
    },
    "id": "EgS9HPGysai-",
    "outputId": "24e978db-c5dd-4a45-ed79-a1325c6bbff1"
   },
   "outputs": [
    {
     "name": "stdout",
     "output_type": "stream",
     "text": [
      "Decision Tree Regression 3308.798412818097\n"
     ]
    }
   ],
   "source": [
    "# Decision Tree Regression\n",
    "error = []\n",
    "for i in range(10):\n",
    "  model = DecisionTreeRegressor()\n",
    "  model.fit(train_x, train_y)\n",
    "  predicted = model.predict(test_x)\n",
    "  error.append(mean_absolute_error(test_y, predicted))\n",
    "print('Decision Tree Regression',sum(error)/len(error))"
   ]
  },
  {
   "cell_type": "code",
   "execution_count": null,
   "metadata": {
    "colab": {
     "base_uri": "https://localhost:8080/"
    },
    "id": "UV8XGC2vOAIB",
    "outputId": "a56fa73e-2a02-44e1-dc22-6ca792d58547"
   },
   "outputs": [
    {
     "name": "stdout",
     "output_type": "stream",
     "text": [
      "Ada Boost Regression 3940.663461321709\n"
     ]
    }
   ],
   "source": [
    "# Ada Boost Regression\n",
    "error = []\n",
    "for i in range(10):\n",
    "  model = AdaBoostRegressor()\n",
    "  model.fit(train_x, train_y)\n",
    "  predicted = model.predict(test_x)\n",
    "  error.append(mean_absolute_error(test_y, predicted))\n",
    "print('Ada Boost Regression',sum(error)/len(error))"
   ]
  },
  {
   "cell_type": "code",
   "execution_count": null,
   "metadata": {
    "colab": {
     "base_uri": "https://localhost:8080/"
    },
    "id": "3NYpDZXyRoVL",
    "outputId": "5c8658a3-92e7-4ac8-bc56-d3750cf13f9f"
   },
   "outputs": [
    {
     "name": "stdout",
     "output_type": "stream",
     "text": [
      "Gradient Boosting Regression 2736.9158897373322\n"
     ]
    }
   ],
   "source": [
    "# Gradient Boosting Regression\n",
    "error = []\n",
    "for i in range(10):\n",
    "  model = GradientBoostingRegressor(learning_rate=0.13)\n",
    "  model.fit(train_x, train_y)\n",
    "  predicted = model.predict(test_x)\n",
    "  error.append(mean_absolute_error(test_y, predicted))\n",
    "print('Gradient Boosting Regression',sum(error)/len(error))"
   ]
  },
  {
   "cell_type": "code",
   "execution_count": null,
   "metadata": {
    "colab": {
     "base_uri": "https://localhost:8080/"
    },
    "id": "Jizeue0Ntl4L",
    "outputId": "c13334e2-71bb-4028-a8f5-5a26528c7742"
   },
   "outputs": [
    {
     "name": "stdout",
     "output_type": "stream",
     "text": [
      "[22:32:00] WARNING: /workspace/src/objective/regression_obj.cu:152: reg:linear is now deprecated in favor of reg:squarederror.\n",
      "[22:32:00] WARNING: /workspace/src/objective/regression_obj.cu:152: reg:linear is now deprecated in favor of reg:squarederror.\n",
      "[22:32:00] WARNING: /workspace/src/objective/regression_obj.cu:152: reg:linear is now deprecated in favor of reg:squarederror.\n",
      "[22:32:00] WARNING: /workspace/src/objective/regression_obj.cu:152: reg:linear is now deprecated in favor of reg:squarederror.\n",
      "[22:32:00] WARNING: /workspace/src/objective/regression_obj.cu:152: reg:linear is now deprecated in favor of reg:squarederror.\n",
      "[22:32:00] WARNING: /workspace/src/objective/regression_obj.cu:152: reg:linear is now deprecated in favor of reg:squarederror.\n",
      "[22:32:00] WARNING: /workspace/src/objective/regression_obj.cu:152: reg:linear is now deprecated in favor of reg:squarederror.\n",
      "[22:32:01] WARNING: /workspace/src/objective/regression_obj.cu:152: reg:linear is now deprecated in favor of reg:squarederror.\n",
      "[22:32:01] WARNING: /workspace/src/objective/regression_obj.cu:152: reg:linear is now deprecated in favor of reg:squarederror.\n",
      "[22:32:01] WARNING: /workspace/src/objective/regression_obj.cu:152: reg:linear is now deprecated in favor of reg:squarederror.\n",
      "XG Boost 2728.6118448237817\n"
     ]
    }
   ],
   "source": [
    "# XG Boost\n",
    "error = []\n",
    "for i in range(10):\n",
    "  model = XGBRegressor()\n",
    "  model.fit(train_x, train_y)\n",
    "  predicted = model.predict(test_x)\n",
    "  error.append(mean_absolute_error(test_y, predicted))\n",
    "print('XG Boost',sum(error)/len(error))"
   ]
  },
  {
   "cell_type": "code",
   "execution_count": null,
   "metadata": {
    "colab": {
     "base_uri": "https://localhost:8080/"
    },
    "id": "pAaOSAxXDy2z",
    "outputId": "de15ea6c-2840-495f-973b-74df7732275b"
   },
   "outputs": [
    {
     "name": "stdout",
     "output_type": "stream",
     "text": [
      "Random Forest Regression 2861.013449286186\n"
     ]
    }
   ],
   "source": [
    "# Random Forest Regression\n",
    "error = []\n",
    "for i in range(10):\n",
    "  model = RandomForestRegressor()\n",
    "  model.fit(train_x, train_y)\n",
    "  predicted = model.predict(test_x)\n",
    "  error.append(mean_absolute_error(test_y, predicted))\n",
    "print('Random Forest Regression',sum(error)/len(error))"
   ]
  },
  {
   "cell_type": "code",
   "execution_count": null,
   "metadata": {
    "colab": {
     "base_uri": "https://localhost:8080/"
    },
    "id": "4s4zYVWdNKnK",
    "outputId": "e4ed1e5c-f541-4f38-fcd4-a2b18f99a72a"
   },
   "outputs": [
    {
     "name": "stdout",
     "output_type": "stream",
     "text": [
      "Extra Tree Regression 2811.881274798105\n"
     ]
    }
   ],
   "source": [
    "# Extra Tree Regression\n",
    "error = []\n",
    "for i in range(10):\n",
    "  model = ExtraTreesRegressor()\n",
    "  model.fit(train_x, train_y)\n",
    "  predicted = model.predict(test_x)\n",
    "  error.append(mean_absolute_error(test_y, predicted))\n",
    "print('Extra Tree Regression',sum(error)/len(error))"
   ]
  },
  {
   "cell_type": "code",
   "execution_count": null,
   "metadata": {
    "colab": {
     "base_uri": "https://localhost:8080/"
    },
    "id": "_fmUPAfbP-Yy",
    "outputId": "8bc06f7c-6386-447b-e981-9966f0faec14"
   },
   "outputs": [
    {
     "name": "stdout",
     "output_type": "stream",
     "text": [
      "Support Vector Regression 5969.508252635548\n"
     ]
    }
   ],
   "source": [
    "# Support Vector Regression\n",
    "error = []\n",
    "for i in range(10):\n",
    "  model = SVR(kernel='linear')\n",
    "  model.fit(train_x, train_y)\n",
    "  predicted = model.predict(test_x)\n",
    "  error.append(mean_absolute_error(test_y, predicted))\n",
    "print('Support Vector Regression',sum(error)/len(error))"
   ]
  },
  {
   "cell_type": "code",
   "execution_count": null,
   "metadata": {
    "colab": {
     "base_uri": "https://localhost:8080/"
    },
    "id": "r2l3vdC1xnV5",
    "outputId": "126afbf7-dd79-482a-9fc4-6ee341db3a6c"
   },
   "outputs": [
    {
     "name": "stdout",
     "output_type": "stream",
     "text": [
      "K Nearest Neighbors Regressions 7887.855480220149\n"
     ]
    }
   ],
   "source": [
    "# K Nearest Neighbors Regressions\n",
    "error = []\n",
    "for i in range(10):\n",
    "  model = KNeighborsRegressor()\n",
    "  model.fit(train_x, train_y)\n",
    "  predicted = model.predict(test_x)\n",
    "  error.append(mean_absolute_error(test_y, predicted))\n",
    "print('K Nearest Neighbors Regressions',sum(error)/len(error))"
   ]
  },
  {
   "cell_type": "code",
   "execution_count": null,
   "metadata": {
    "colab": {
     "background_save": true,
     "base_uri": "https://localhost:8080/"
    },
    "id": "IyCFSCHl1AuZ",
    "outputId": "6bd3b956-3038-4a4c-ff8a-136f34e7804f"
   },
   "outputs": [
    {
     "name": "stdout",
     "output_type": "stream",
     "text": [
      "Voting Regressions 1508.9180853889197\n"
     ]
    }
   ],
   "source": [
    "# Voting Regressions\n",
    "error = []\n",
    "for i in range(10):\n",
    "  r1 = GradientBoostingRegressor(loss='huber', learning_rate=0.13, max_features='auto', alpha=0.7, random_state=1)\n",
    "  r2 = GradientBoostingRegressor(loss='huber', learning_rate=0.13, max_features='auto', alpha=0.7, random_state=1)\n",
    "  model = VotingRegressor([('gbr1', r1), ('gbr2', r2)])\n",
    "  model.fit(train_x, train_y)\n",
    "  predicted = model.predict(test_x)\n",
    "  error.append(mean_absolute_error(test_y, predicted))\n",
    "print('Voting Regressions',sum(error)/len(error))"
   ]
  },
  {
   "cell_type": "code",
   "execution_count": null,
   "metadata": {
    "colab": {
     "background_save": true,
     "base_uri": "https://localhost:8080/"
    },
    "id": "T9TcFz0uTN4g",
    "outputId": "2a967627-57d5-4d73-a9a2-5e96100d6b65"
   },
   "outputs": [
    {
     "name": "stdout",
     "output_type": "stream",
     "text": [
      "Bagging Regressions 2719.8573220207095\n"
     ]
    }
   ],
   "source": [
    "# Bagging Regression\n",
    "error = []\n",
    "for i in range(10):\n",
    "  model = BaggingRegressor()\n",
    "  model.fit(train_x, train_y)\n",
    "  predicted = model.predict(test_x)\n",
    "  error.append(mean_absolute_error(test_y, predicted))\n",
    "print('Bagging Regressions',sum(error)/len(error))"
   ]
  },
  {
   "cell_type": "code",
   "execution_count": null,
   "metadata": {
    "colab": {
     "background_save": true,
     "base_uri": "https://localhost:8080/"
    },
    "id": "t1ks-hdpcoHv",
    "outputId": "46a152b6-a620-4309-f730-ab983dc4b4de"
   },
   "outputs": [
    {
     "name": "stdout",
     "output_type": "stream",
     "text": [
      "Neural Network 3287.1178071072354\n"
     ]
    }
   ],
   "source": [
    "# Neural Network\n",
    "model = Sequential()\n",
    "model.add(Dense(8, input_dim=8, kernel_initializer='normal', activation='linear'))\n",
    "model.add(Dense(16, activation='linear'))\n",
    "model.add(Dense(32, activation='linear'))\n",
    "model.add(Dense(64, activation='linear'))\n",
    "model.add(Dense(32, activation='linear'))\n",
    "model.add(Dense(16, activation='linear'))\n",
    "model.add(Dense(8, activation='linear'))\n",
    "model.add(Dense(1, activation='linear'))\n",
    "model.compile(loss='mae', optimizer='adam', metrics=['mae'])\n",
    "history = model.fit(train_x, train_y, epochs=100, verbose=0)\n",
    "predicted = model.predict(test_x)\n",
    "error = mean_absolute_error(test_y, predicted)\n",
    "print('Neural Network',error)"
   ]
  },
  {
   "cell_type": "code",
   "execution_count": null,
   "metadata": {
    "colab": {
     "background_save": true,
     "base_uri": "https://localhost:8080/",
     "height": 295
    },
    "id": "ACwzQSBCbOob",
    "outputId": "86b676eb-6d33-47fe-ddc1-7e2615d59221"
   },
   "outputs": [
    {
     "data": {
      "image/png": "[encoded data removed]",
      "text/plain": [
       "<Figure size 432x288 with 1 Axes>"
      ]
     },
     "metadata": {},
     "output_type": "display_data"
    }
   ],
   "source": [
    "plt.plot(history.history['loss'])\n",
    "plt.title('Neural Network training loss')\n",
    "plt.ylabel('Loss')\n",
    "plt.xlabel('Epochs')\n",
    "plt.show()"
   ]
  },
  {
   "cell_type": "code",
   "execution_count": null,
   "metadata": {
    "colab": {
     "background_save": true,
     "base_uri": "https://localhost:8080/"
    },
    "id": "_X2Y8aIvV1nz",
    "outputId": "ddaa4bd2-2b70-4ea6-9ba8-b410e0faf611"
   },
   "outputs": [
    {
     "data": {
      "text/plain": [
       "array([32805.168], dtype=float32)"
      ]
     },
     "execution_count": null,
     "metadata": {},
     "output_type": "execute_result"
    }
   ],
   "source": [
    "# Predict cost for a sample customer\n",
    "sample = DataFrame({\n",
    "            'age': 26,\n",
    "            'bmi': 25.44,\n",
    "            'children': 1,\n",
    "            'sex_male': 1, \n",
    "            'smoker_yes' : 1,\n",
    "            'region_northwest': 0,\n",
    "            'region_southeast': 0,\n",
    "            'region_southwest': 1,\n",
    "          }, [1])\n",
    "model.predict(sample)[0]"
   ]
  }
 ],
 "metadata": {
  "colab": {
   "collapsed_sections": [],
   "name": "insurance.ipynb",
   "provenance": []
  },
  "kernelspec": {
   "display_name": "Python 3",
   "language": "python",
   "name": "python3"
  },
  "language_info": {
   "codemirror_mode": {
    "name": "ipython",
    "version": 3
   },
   "file_extension": ".py",
   "mimetype": "text/x-python",
   "name": "python",
   "nbconvert_exporter": "python",
   "pygments_lexer": "ipython3",
   "version": "3.7.6"
  }
 },
 "nbformat": 4,
 "nbformat_minor": 1
}
